{
 "cells": [
  {
   "cell_type": "markdown",
   "metadata": {},
   "source": [
    "# Pilas"
   ]
  },
  {
   "cell_type": "markdown",
   "metadata": {},
   "source": [
    "- Implementación usando listas"
   ]
  },
  {
   "cell_type": "code",
   "execution_count": 1,
   "metadata": {
    "collapsed": true
   },
   "outputs": [],
   "source": [
    "class Pila:\n",
    "    \n",
    "    def __init__(self):\n",
    "        \"\"\"\n",
    "        Constructor por omisión que inicializa una pila vacía.\n",
    "        \"\"\"\n",
    "        pass\n",
    "    \n",
    "    def push(self, nuevo_elemento):\n",
    "        \"\"\"\n",
    "        Agrega un nuevo elemento al tope de la pila.\n",
    "        \"\"\"\n",
    "        pass\n",
    "    \n",
    "    def top(self):\n",
    "        \"\"\"\n",
    "        Regresa el elemento en el tope de la pila pero NO lo quita.\n",
    "        \"\"\"\n",
    "        pass\n",
    "    \n",
    "    def pop(self):\n",
    "        \"\"\"\n",
    "        Regresa el elemento en el tope de la pila y lo quita.\n",
    "        \"\"\"\n",
    "        pass\n",
    "    \n",
    "    def empty(self):\n",
    "        \"\"\"\n",
    "        Decide si la pila está vacía o no.\n",
    "        \"\"\"\n",
    "        pass"
   ]
  },
  {
   "cell_type": "code",
   "execution_count": 2,
   "metadata": {
    "collapsed": true
   },
   "outputs": [],
   "source": [
    "pila = Pila()"
   ]
  },
  {
   "cell_type": "code",
   "execution_count": 7,
   "metadata": {},
   "outputs": [
    {
     "name": "stdout",
     "output_type": "stream",
     "text": [
      "False\n",
      "1\n",
      "False\n"
     ]
    }
   ],
   "source": [
    "pila.push(1)\n",
    "print(pila.empty())\n",
    "print(pila.top())\n",
    "print(pila.empty())"
   ]
  },
  {
   "cell_type": "code",
   "execution_count": 8,
   "metadata": {},
   "outputs": [
    {
     "name": "stdout",
     "output_type": "stream",
     "text": [
      "3\n"
     ]
    }
   ],
   "source": [
    "pila.push(1)\n",
    "pila.push(2)\n",
    "pila.push(3)\n",
    "print(pila.top())"
   ]
  },
  {
   "cell_type": "code",
   "execution_count": null,
   "metadata": {
    "collapsed": true
   },
   "outputs": [],
   "source": []
  }
 ],
 "metadata": {
  "kernelspec": {
   "display_name": "Python 3",
   "language": "python",
   "name": "python3"
  },
  "language_info": {
   "codemirror_mode": {
    "name": "ipython",
    "version": 3
   },
   "file_extension": ".py",
   "mimetype": "text/x-python",
   "name": "python",
   "nbconvert_exporter": "python",
   "pygments_lexer": "ipython3",
   "version": "3.6.1"
  }
 },
 "nbformat": 4,
 "nbformat_minor": 2
}
